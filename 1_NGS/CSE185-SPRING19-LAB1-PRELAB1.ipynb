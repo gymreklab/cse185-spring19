{
 "cells": [
  {
   "cell_type": "markdown",
   "metadata": {},
   "source": [
    "# Week 1 Lab: next generation sequencing and mutation hunting\n",
    "## Prelab 1\n",
    "**Due: Tuesday 04/02/19 10am**\n",
    "\n",
    "The following exercises will help prepare you to complete this week's lab assignment. For our first prelab, we'll focus primarily on making sure you have access to the lab resources (UNIX server and JupyterHub).\n",
    "\n",
    "As a reminder, each week you will need to complete the following:\n",
    "* Pre-lab assignments are due before the start of each lab (e.g. PRELAB1 is due Tuesday 10am and PRELAB2 is due Thursday 10am). Each prelab assignment is worth 1% of your total grade.\n",
    "* Lab assignments (both part 1 and part 2) are due each Monday before the start of lecture. Each lab assignment is worth 10% of your total grade.\n",
    "\n",
    "Due dates will be posted at the top of each assignment and possible points for each section will be clearly marked.\n",
    "Questions that need to be filled in for points will be shown in <font color=\"red\">red</font>."
   ]
  },
  {
   "cell_type": "markdown",
   "metadata": {},
   "source": [
    "## 1. Jupyter Lab setup\n",
    "\n",
    "- TODO open the notebook, make a new markdown, code cell. worth 0.2 points\n",
    "\n",
    "- \"magics\": pylab inline"
   ]
  },
  {
   "cell_type": "markdown",
   "metadata": {},
   "source": [
    "<font color=\"red\" size=\"3\" style=\"background-color:#f2e3e5\">**Question 1: (0.5 pts)** TODO something with jupyter.</font>"
   ]
  },
  {
   "cell_type": "markdown",
   "metadata": {},
   "source": [
    "## 2. Course server login and basic UNIX navigation\n",
    "\n",
    "You can ssh in to the course server from the terminal on any internet-connected mac or Linux machine. Launch terminal, play with the preferences to chose a color scheme you like (I also like to set my cursor to blinking), then log in with the command below. Replace XXXXX with your username obtained in class. If you don't know your usename, you can look it up [here](https://sdacs.ucsd.edu/~icc/index.php). If you are not using a course-specific account, you'll need to run the `prep` command to get set up for CSE185 specific resources.\n",
    "\n",
    "\n",
    "```shell\n",
    "ssh XXXXX@ieng6.ucsd.edu\n",
    "```\n",
    "\n",
    "Enter the password when prompted. You will be placed into your unique home directory (`/home/[username]`). You can use\n",
    "`pwd` (print working directory) to see the path to the current directory. \n",
    "```shell\n",
    "pwd\n",
    "```\n",
    "\n",
    "Use `ls` (list)  to see what’s in the current directory (it should be empty). \n",
    "```shell\n",
    "ls\n",
    "```\n",
    "\n",
    "Above your home directory, there is a high-level directory for the whole course. This is where all the\n",
    "raw data will be located. To get to this directory, you use the `cd` (change directory) command. The\n",
    "general format for this command is:\n",
    "```shell\n",
    "cd [directory]\n",
    "```\n",
    "\n",
    "To use the command, you replace the part in brackets (get ride of the brackets too), with the path to\n",
    "the directory that you’d like to change too. (We will use a similar format throughout the tutorials for code you will need to fill in.) This path can be absolute or relative. If you just type `cd`\n",
    "alone, the shell will take you to your home directory. To specify relative paths in the [directory] part of \n",
    "the command, a single period refers to the current directory and a double period refers to its parent.\n",
    "So to navigate to the high-level course directory from your home directory, type:\n",
    "```shell\n",
    "cd ..\n",
    "```\n",
    "\n",
    "Now when you type `ls`, you should see the home directories of everyone in the class, as well as a\n",
    "public directory. You only have access to your directory and the public directory, and the public\n",
    "directory is read-only. Go ahead and `cd` into the public directory.\n",
    "\n",
    "<blockquote>\n",
    "**UNIX TIP**: Unix has an ‘autocomplete’ feature that will help you correctly type names and paths. If\n",
    "you start typing the command below and then press the tab key, unix will automatically fill in\n",
    "the rest of the directory name, and you can just hit enter. Try it. \n",
    "</blockquote>\n",
    "\n",
    "```shell\n",
    "cd public/\n",
    "```\n",
    "\n",
    "Use `ls` to see what’s in the public folder, and `pwd` to get the absolute path to the public folder. \n",
    "\n",
    "<blockquote>\n",
    "**UNIX TIP CONTINUED**: If there are multiple options in a file that start with the same letters (ie `week1`\n",
    "and `week2`), when you press tab after you start typing, the shell will autocomplete the shared part,\n",
    "then beep (if the sound is on) and wait for you to specify the rest, then you can keep typing and\n",
    "tabbing. \n",
    "</blockquote>\n",
    "\n",
    "Try using autocomplete and tab to `cd` into the `public/week1` folder. Here you should see 7 files. Fastq files (`*.fq`) contain raw Illumina sequencing reads from our samples (1 and 2 refer to forward and reverse, this was a paired end run). The `.fa` file is the human reference genome.\n",
    "\n",
    "While you are in the `week1` folder, compare the size of each of these files with the disk usage `ls`\n",
    "command. The optional flag `-l` makes the output in \"long format\" and the `-h` makes the results human readable (in \n",
    "`-h` makes the results human readable (*e.g.*, 1K 234M 2G instead of number of bytes).\n",
    "\n",
    "```shell\n",
    "ls -lh\n",
    "```\n",
    "\n",
    "<blockquote>\n",
    "**IMPORTANT NOTE**: Data analysis you do in the class will all be done in your own home directory,\n",
    "and in most cases, you will use an absolute path to refer to the raw data location in the public folder,\n",
    "so lets just leave that data where it is, and cd back your home directory. Unless explicitly directed, **DO\n",
    "NOT copy** the raw sequencing files from the public folder into your folder. This is because they are\n",
    "very large and the server space for each account and the course\n",
    "as a whole is limited, so we won’t make copies unless we have to. \n",
    "</blockquote>"
   ]
  },
  {
   "cell_type": "markdown",
   "metadata": {},
   "source": [
    "<font color=\"red\" size=\"3\" style=\"background-color:#f2e3e5\">**Question 2 (0.5 pts):** List the names and corresponding file sizes for each of the 7 files in the week1 directory.</font>"
   ]
  },
  {
   "cell_type": "markdown",
   "metadata": {},
   "source": [
    "<font color=\"blue\" size=\"3\" style=\"background-color:#e2e6f1\">**Answer 2**</font>\n",
    "\n",
    "COMPLETE YOUR ANSWER HERE\n"
   ]
  },
  {
   "cell_type": "markdown",
   "metadata": {},
   "source": [
    "## 3. Turn in your assignment"
   ]
  },
  {
   "cell_type": "markdown",
   "metadata": {},
   "source": [
    "TODO how to turn in jupyter lab assignments??"
   ]
  }
 ],
 "metadata": {
  "kernelspec": {
   "display_name": "Python 3",
   "language": "python",
   "name": "python3"
  },
  "language_info": {
   "codemirror_mode": {
    "name": "ipython",
    "version": 2
   },
   "file_extension": ".py",
   "mimetype": "text/x-python",
   "name": "python",
   "nbconvert_exporter": "python",
   "pygments_lexer": "ipython2",
   "version": "2.7.5"
  }
 },
 "nbformat": 4,
 "nbformat_minor": 2
}
