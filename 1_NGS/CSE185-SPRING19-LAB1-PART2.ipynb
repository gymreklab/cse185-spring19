{
 "cells": [
  {
   "cell_type": "markdown",
   "metadata": {},
   "source": [
    "# Week 1 Lab: next generation sequencing and mutation hunting\n",
    "\n",
    "## Part 2\n",
    "**Due: Monday 4/8/19**\n",
    "\n",
    "**Partner: ** (optional. Indicate which partner is turning in the assignment)\n",
    "\n",
    "Skills covered: TODO\n"
   ]
  },
  {
   "cell_type": "markdown",
   "metadata": {},
   "source": [
    "## 1. Preparing for SNP calling: pileup files\n",
    "\n",
    "The goal now is to go through our data, and for each position in the reference genome, see how many reads have a mutation at the same position. The tview image looks great, but would take too long to go through the entire human genome. The SAM file is inconvenient for this, because the reads aren’t matched with the reference in a simple way (though they do contain all the information needed to make the alignment in tview). The solution is to make an intermediate file type called an mpileup, because it goes through each position and “piles up” the reads, tabulating the number of bases that match or don’t match the reference.\n",
    "\n",
    "Like tview, mpileup requires a sorted, indexed bam file. We will focus only on a specific region of the genome to make this go faster. Run `samtools mpileup` to see the usage information. Then run the basic command below. \n",
    "\n",
    "```\n",
    "samtools mpileup -r chr6:128405804-128605805 -f hg19.fa NA12878_child.sorted.bam > NA12878_child.mpileup\n",
    "```\n",
    "\n",
    "See what the pileup looks like with `head -n 100`. These files will be more convenient for SNP calling, since they \"pileup\" all the bases sequenced at each position in the reference genome. Read about pileup format here: http://samtools.sourceforge.net/pileup.shtml.\n",
    "\n",
    "<blockquote>\n",
    "**UNIX TIP**: Sometimes files with long lines are hard to read in the terminal screen because the lines get \"wrapped\". I like to pipe output to `less -S` which allows you to scroll horizontally. Try it out with the command below.\n",
    "</blockquote>\n",
    "\n",
    "```\n",
    "head -n 100 NA12878_child.mpileup | less -S\n",
    "```\n",
    "\n",
    "Now look at the usage of `samtools mpileup` to determine how to run the command on multiple BAM files at once (child, father, and mother, in that order so everyone's files are consistent). Output the results to `trio.mpileup`.\n",
    "\n",
    "To examine the output, we'll learn a new UNIX command, `grep`, which is a useful tool for searching files for specific string patterns (kind of like \"ctrl+F\" or \"find\" functions in other tools). Try the command below:\n",
    "\n",
    "```\n",
    "cat trio.mpileup | grep 128419307\n",
    "```"
   ]
  },
  {
   "cell_type": "markdown",
   "metadata": {},
   "source": [
    "<font color=\"red\" size=\"3\" style=\"background-color:#f2e3e5\">**Question 1 (3 pts)**: How many reads does each smaple (child, mother, father) have covering the position chr6:128419307? What does it look like the genotype of each sample is? (TT, AT, or AA)? Answer the same questions for position chr6:128435303 (coverage and genotype for each sample).</font>"
   ]
  },
  {
   "cell_type": "markdown",
   "metadata": {},
   "source": [
    "<font color=\"blue\" size=\"3\" style=\"background-color:#e2e6f1\">**Answer 1**</font>"
   ]
  },
  {
   "cell_type": "markdown",
   "metadata": {},
   "source": [
    "## 2. Plotting the coverage distribution\n",
    "\n",
    "The mpileup format makes it straightforward to plot the coverage distribution for each sample. We can simply pull out the columns of the file for each sample correponding to coverage. \n",
    "\n",
    "<font color=\"red\" size=\"3\" style=\"background-color:#f2e3e5\">**Question 2 (4 pts)** Complete the code below to plot the distribution of coverage and compute the mean of the distribution for each sample. </font>"
   ]
  },
  {
   "cell_type": "markdown",
   "metadata": {},
   "source": [
    "<font color=\"blue\" size=\"3\" style=\"background-color:#e2e6f1\">**Answer 2**</font>"
   ]
  },
  {
   "cell_type": "code",
   "execution_count": 17,
   "metadata": {
    "collapsed": false
   },
   "outputs": [
    {
     "name": "stdout",
     "output_type": "stream",
     "text": [
      "Populating the interactive namespace from numpy and matplotlib\n",
      "Mean child coverage: 50.7579824201758\n"
     ]
    },
    {
     "data": {
      "image/png": "[encoded data removed]",
      "text/plain": [
       "<Figure size 576x216 with 3 Axes>"
      ]
     },
     "metadata": {
      "needs_background": "light"
     },
     "output_type": "display_data"
    }
   ],
   "source": [
    "HOMEDIR=\"/home/mgymrek/workspace/cse185-spring19/1_NGS/data_prep\" # TODO change\n",
    "\n",
    "%pylab inline\n",
    "import os\n",
    "import pandas as pd\n",
    "import numpy as np\n",
    "\n",
    "covdata = pd.read_csv(os.path.join(HOMEDIR, \"trio.mpileup\"), sep=\"\\t\",\n",
    "                     names = [\"cov.child\", \"cov.father\", \"cov.mother\"],\n",
    "                     usecols = [3, 6, 9])\n",
    "\n",
    "# Set up the plot\n",
    "fig = plt.figure()\n",
    "fig.set_size_inches((8, 3))\n",
    "\n",
    "# Plot child coverage distribution\n",
    "ax = fig.add_subplot(131)\n",
    "ax.hist(covdata[\"cov.child\"])\n",
    "ax.set_xlabel(\"# reads - child\")\n",
    "ax.set_ylabel(\"# positions\")\n",
    "print(\"Mean child coverage: %s\"%np.mean(covdata[\"cov.child\"]))\n",
    "\n",
    "# Plot father coverage distribution\n",
    "ax = fig.add_subplot(132)\n",
    "# TODO fill in this section\n",
    "\n",
    "# Plot mother coverage distribution\n",
    "ax = fig.add_subplot(133)\n",
    "# TODO fill in this section\n",
    "\n",
    "# Clean up the plot spacing\n",
    "fig.tight_layout();"
   ]
  },
  {
   "cell_type": "markdown",
   "metadata": {},
   "source": [
    "## 3. Running a SNP caller (Varscan)\n",
    "\n",
    "Now we will run a SNP caller to identify variants in our three samples. We could parse the mpileup file ourselves to do this, but there are already dozens of existing SNP callers out there so for now we'll choose not to reinvent the wheel.\n",
    "\n",
    "Until now, all the programs you have been using (BWA, fastqc, samtools...) were pre-installed for you in our public folder. Here you’ll get to try your hand at installing one type of program file.\n",
    "\n",
    "Use the command below (`curl` - it's a linux/unix command to access websites) to download VarScan into your `week1` folder. Notice that we are redirecting the contents of the download into a .jar file.\n",
    "\n",
    "```\n",
    "curl -L https://sourceforge.net/projects/varscan/files/VarScan.v2.3.9.jar/download > VarScan.jar\n",
    "```\n",
    "\n",
    "Try to bring up the man page with:\n",
    "```\n",
    "java -jar VarScan.jar\n",
    "```\n",
    "\n",
    "This install method won’t be the same for all bioinformatics programs, and it might not even be the same for other java programs, as installing open source software often has dependencies (prerequisite software) and can be sensitive to where its installed and how it is executed. We'll try to touch on this throughout the course.\n",
    "\n",
    "\n",
    "On the VarScan man page, you should see several commands. We are interested in the mpileup2snp command. Go ahead and enter it with `-h` to bring up the manual.\n",
    "\n",
    "```\n",
    "java -jar VarScan.jar mpileup2snp -h\n",
    "```\n",
    "\n",
    "There are lots of ways we could filter our data. VarScan lets the user define their own cutoffs for including data in calling variants, other programs rely on complex statistical procedures to evaluate the likelihood of real mutations.\n",
    "\n",
    "The first option we are interested in setting today is the -`-min-var-frequency` option. This sets the minimum % of non-reference bases at a position required to call it a variant in the sample. Set this too low, and we'll pick up mostly sequencing errors. Set this too high, and we'll miss real variants. We're also interested in `--min-freq-for-hom`, the minimum % of non-reference bases to call a variant homozygous.\n",
    "\n",
    "Choose reasonable thresholds that will allow us to pick up both heterozygous and homozygous variants. "
   ]
  },
  {
   "cell_type": "markdown",
   "metadata": {},
   "source": [
    "<font color=\"red\" size=\"3\" style=\"background-color:#f2e3e5\">**Question 3 (4 pts)**: Choose reasonable thresholds to modify and run the command below to perform SNP calling.</font>"
   ]
  },
  {
   "cell_type": "markdown",
   "metadata": {},
   "source": [
    "<font color=\"blue\" size=\"3\" style=\"background-color:#e2e6f1\">**Answer 3**</font>\n",
    "\n",
    "```\n",
    "java -jar VarScan.jar mpileup2snp \\\n",
    "  trio.mpileup \\\n",
    "  --min-var-frequency N \\\n",
    "  --min-freq-for-hom N \\\n",
    "  --variants \\\n",
    "  --p-value 0.01 \\\n",
    "  --output-vcf 1 > trio.vcf\n",
    "```"
   ]
  },
  {
   "cell_type": "markdown",
   "metadata": {},
   "source": [
    "## 4. Intro to VCF files\n",
    "\n",
    "VarScan outputs variants in VCF (variant call format), a standard genomics format. To read about all the gory details of VCF files, see the specs: https://samtools.github.io/hts-specs/VCFv4.2.pdf\n",
    "\n",
    "First take a peak and scroll through the file:\n",
    "\n",
    "```\n",
    "cat trio.vcf | less -S\n",
    "```\n",
    "\n",
    "Key things to notice:\n",
    "\n",
    "* The header lines (starting with \"#\") give general information about the file such as the tool use to generate it and a description of all the different data fields in the file.\n",
    "* Below the header, there is one line per variant. For each variant, you can find the chromosome, position, reference allele, alternate allele, and additional info. Following these fields are the variant call and statistics for each sample\n",
    "* \"INFO\" fields describe per-variant statistics. \"FORMAT\" fields describe per-sample statistics at each variant.\n",
    "\n",
    "See lecture slides for more VCF info."
   ]
  },
  {
   "cell_type": "markdown",
   "metadata": {},
   "source": [
    "<font color=\"red\" size=\"3\" style=\"background-color:#f2e3e5\">**Question 4 (2 pts)**: Look at the position chr6:128593590 (it might be helpful to use grep for this). What is the genotype for each of the three samples? What is the p-value for each?</font>"
   ]
  },
  {
   "cell_type": "markdown",
   "metadata": {},
   "source": [
    "<font color=\"blue\" size=\"3\" style=\"background-color:#e2e6f1\">**Answer 4**</font>"
   ]
  },
  {
   "cell_type": "markdown",
   "metadata": {},
   "source": [
    "## 5. Inspecting putative variants"
   ]
  },
  {
   "cell_type": "markdown",
   "metadata": {},
   "source": [
    "## 6. Mutation inspection and annotation"
   ]
  },
  {
   "cell_type": "markdown",
   "metadata": {},
   "source": [
    "# Additional challenge questions"
   ]
  },
  {
   "cell_type": "markdown",
   "metadata": {},
   "source": [
    "TODO: anomalies in sequencing coverage"
   ]
  },
  {
   "cell_type": "markdown",
   "metadata": {
    "collapsed": true
   },
   "source": [
    "TODO: anomalies in insert size distributions"
   ]
  },
  {
   "cell_type": "markdown",
   "metadata": {
    "collapsed": true
   },
   "source": [
    "TODO: SNP calling error sources"
   ]
  }
 ],
 "metadata": {
  "kernelspec": {
   "display_name": "Python 3",
   "language": "python",
   "name": "python3"
  },
  "language_info": {
   "codemirror_mode": {
    "name": "ipython",
    "version": 2
   },
   "file_extension": ".py",
   "mimetype": "text/x-python",
   "name": "python",
   "nbconvert_exporter": "python",
   "pygments_lexer": "ipython2",
   "version": "2.7.5"
  }
 },
 "nbformat": 4,
 "nbformat_minor": 2
}
