{
 "cells": [
  {
   "cell_type": "markdown",
   "metadata": {},
   "source": [
    "# Week 1 Lab: next generation sequencing and mutation hunting\n",
    "## Prelab 2\n",
    "**Due: Thursday 04/04/19 10am**\n",
    "\n",
    "Today's prelab will focus on understanding **sequencing coverage** and how to model coverage in the presence of **genetic variants** from the reference genome."
   ]
  },
  {
   "cell_type": "markdown",
   "metadata": {},
   "source": [
    "## 1. Exploring sequencing coverage\n",
    "\n",
    "In next generation sequencing (NGS), coverage refers to the number of reads *covering* a particular base pair (bp) in the reference genome.\n",
    "\n",
    "Recall from lecture that we sequencing a genome in many little chunks, called *reads*. In a typical NGS experiment, reads are around 100bp each. We can assume that the start position of each read is chosen randomly from the genome (although that's not quite true). We usually produce enough sequencing data such that we cover each base in the genome many times. This allows us to more accurately correct for errors and to detect **variants** from the reference genome.\n",
    "\n",
    "As a toy example, consider the following reference genome and read alignment:\n",
    "\n",
    "```\n",
    "Ref:    AACTACGTACGTACGATCAGACTG\n",
    "Read 1:      CGTACG\n",
    "Read 2:          CGTACG\n",
    "Read 3:                  CAGACT\n",
    "```\n",
    "\n",
    "The 11th position (G in the reference) is covered 3 times (often denoted as 3x). The first position (A in the reference) is covered 0 times. "
   ]
  },
  {
   "cell_type": "markdown",
   "metadata": {},
   "source": [
    "<font color=\"red\" size=\"3\" style=\"background-color:#f2e3e5\">**Question 1 (1 pts):** How many times is the 13th base covered?</font>"
   ]
  },
  {
   "cell_type": "markdown",
   "metadata": {},
   "source": [
    "<font color=\"blue\" size=\"3\" style=\"background-color:#e2e6f1\">**Answer 1**</font>"
   ]
  },
  {
   "cell_type": "markdown",
   "metadata": {},
   "source": [
    "We can easily compute the *average coverage*, or mean number of times each base is covered, given the read length ($l$), genome size ($G$), and number of reads ($N$) by dividing the number of total sequenced bases ($l*N$) by the total genome size ($G$): \n",
    "\n",
    "$$\\texttt{Mean Coverage} = \\frac{lN}{G}$$"
   ]
  },
  {
   "cell_type": "markdown",
   "metadata": {},
   "source": [
    "<font color=\"red\" size=\"3\" style=\"background-color:#f2e3e5\">**Question 2 (2 pts):** For a genome of total length 2000bp, you sequenced 100,000 reads with length 36. What is the mean coverage?</font>"
   ]
  },
  {
   "cell_type": "markdown",
   "metadata": {},
   "source": [
    "<font color=\"blue\" size=\"3\" style=\"background-color:#e2e6f1\">**Answer 2**</font>"
   ]
  },
  {
   "cell_type": "markdown",
   "metadata": {},
   "source": [
    "<font color=\"red\" size=\"3\" style=\"background-color:#f2e3e5\">**Question 3 (2 pts):** You would like to sequence a human genome (3 billion bp) to mean coverage 50x. Approximately how many 100bp reads should you generate?</font>"
   ]
  },
  {
   "cell_type": "markdown",
   "metadata": {},
   "source": [
    "<font color=\"blue\" size=\"3\" style=\"background-color:#e2e6f1\">**Answer 3**</font>"
   ]
  },
  {
   "cell_type": "markdown",
   "metadata": {},
   "source": [
    "## 2. Reviewing the binomial distribution\n",
    "\n",
    "Now we will explore what our sequencing data will look like in the presence of variants from the reference genome. We'll also learn some terminology for how we talk about genetic variation. For simplicity, we will only consider simple base pair substitutions. Insertions, deletions, or structural variants will be discussed in later weeks.\n",
    "\n",
    "Humans are *diploid*, meaning we have two copies of each chromosome (except X and Y). Positions in the genome that have common variants in the population are referred to as \"single nucleotide polymorphisms\", or SNPs. Nearly all SNPs are *bi-allelic*, meaning the position on any given copy of the chromosome in the population is either one of two possible base pairs (e.g. A or C). Each of these possible base pairs is called an *allele*.\n",
    "\n",
    "For example, consider a SNP with two alleles, \"C\" or \"T\". Since we are diploid, the *genotype* of a person consists of the two alleles they have on either copy. So a person's *genotype* at this SNP could be either CC, CT, or TT. We refer to genotypes where both alleles are the same (e.g. CC or TT) as *homozygous* and to genotypes with two different alleles (e.g. CT) as *heterozygous*. Since one of these is usually the allele in the referenc genome (*reference allele*), we can refer to SNP genotypes as *homozygous reference*, *heterozygous*, or *homozygous non-reference*.\n",
    "\n",
    "Now let's think about what next-generation sequencing data will look like at different types of genotypes. Consider a position in the genome *covered* by $C$ reads. Each of those reads has a 50/50 chance of coming from either chromosome of an individual. For a homozygous position (e.g. genotype TT), we'd expect all of the reads covering that position to show the same base pair (T). On the other hand, for a heterozygous position (e.g. genotype CT), we'd expect about half of them to show one base pair (C) and half the other (T). (Of course when there are sequencing errors, this will change.)\n",
    "\n",
    "The *binomial distribution* is a great way to model the number of reads with each allele at a heterozygous position. Head over to wikipedia to refresh your memory on this distribution: https://en.wikipedia.org/wiki/Binomial_distribution.\n",
    "\n",
    "In a binomial distribution, we have $N$ total \"trials\", each with probability $p$ of \"success\". Then the probability of observing $k$ \"successes\" is:\n",
    "\n",
    "$$ P(k) = {n \\choose k} p^k(1-p)^{n-k}$$\n",
    "\n",
    "Now let's adapt this to SNP calling. \n",
    "\n",
    "Let $N$ (number of trials) be the total number of reads covering a position and a \"success\" mean observing a non-reference allele. Since we observe each allele (reference vs. non-reference) with 50/50 chance, $p=0.5$. Then:\n",
    "$$ P(\\texttt{observe }k\\texttt{ non-reference reads}) = {n \\choose k} 0.5^k(1-0.5)^{n-k}$$\n",
    "Simplifying:\n",
    "$$ P(\\texttt{observe }k\\texttt{ non-reference reads} | \\texttt{ het}) = {n \\choose k} 0.5^n$$\n",
    "\n",
    "And for the homozygous cases are just:\n",
    "$$ P(\\texttt{observe }k\\texttt{ non-reference reads} | \\texttt{ hom. ref}) = \\begin{array}{c c} 1 & k=0 \\\\ 0 & k>0\\end{array}$$\n",
    "$$ P(\\texttt{observe }k\\texttt{ non-reference reads} | \\texttt{ hom. nonref}) = \\begin{array}{c c} 1 & k=N \\\\ 0 & k<N \\end{array}$$\n",
    "\n",
    "Let's plot the distributions for an SNP with C as the reference allele and T as the non-reference allele that we covered 50 times:"
   ]
  },
  {
   "cell_type": "code",
   "execution_count": 25,
   "metadata": {
    "collapsed": false
   },
   "outputs": [
    {
     "name": "stdout",
     "output_type": "stream",
     "text": [
      "Populating the interactive namespace from numpy and matplotlib\n"
     ]
    },
    {
     "data": {
      "image/png": "[encoded data removed]",
      "text/plain": [
       "<Figure size 360x360 with 3 Axes>"
      ]
     },
     "metadata": {
      "needs_background": "light"
     },
     "output_type": "display_data"
    }
   ],
   "source": [
    "%pylab inline\n",
    "\n",
    "import numpy as np\n",
    "import scipy.special\n",
    "\n",
    "N = 10\n",
    "kvals = range(0, N+1)\n",
    "\n",
    "def GetHomRefProb(N, k):\n",
    "    if k == 0: return 1\n",
    "    else: return 0\n",
    "    \n",
    "def GetHetProb(N, k):\n",
    "    return scipy.special.comb(N, k)*0.5**N\n",
    "\n",
    "def GetHomNonRefProb(N, k):\n",
    "    if k == N: return 1\n",
    "    else: return 0\n",
    "    \n",
    "fig = plt.figure()\n",
    "fig.set_size_inches((5, 5))\n",
    "\n",
    "ax = fig.add_subplot(311)\n",
    "hom_ref = [GetHomRefProb(N, k) for k in kvals]\n",
    "ax.bar(kvals, hom_ref)\n",
    "ax.set_title(\"Homozygous reference (CC)\")\n",
    "ax.set_ylabel(\"Probability\")\n",
    "\n",
    "ax = fig.add_subplot(312)\n",
    "het = [GetHetProb(N, k) for k in kvals]\n",
    "ax.bar(kvals, het)\n",
    "ax.set_title(\"Heterozygous (CT)\")\n",
    "ax.set_ylabel(\"Probability\")\n",
    "\n",
    "ax = fig.add_subplot(313)\n",
    "hom_nonref = [GetHomNonRefProb(N, k) for k in kvals]\n",
    "ax.bar(kvals, hom_nonref)\n",
    "ax.set_title(\"Homozygous non-reference (TT)\")\n",
    "ax.set_xlabel(\"Number of reads with T observed\")\n",
    "ax.set_ylabel(\"Probability\")\n",
    "\n",
    "fig.tight_layout()"
   ]
  },
  {
   "cell_type": "markdown",
   "metadata": {},
   "source": [
    "<font color=\"red\" size=\"3\" style=\"background-color:#f2e3e5\">**Question 4 (1 pts):** If the position is heterozygous (CT) and there are 10 reads covering it, what is the probability to see only 1 non-reference read?</font>"
   ]
  },
  {
   "cell_type": "markdown",
   "metadata": {},
   "source": [
    "<font color=\"blue\" size=\"3\" style=\"background-color:#e2e6f1\">**Answer 4**</font>"
   ]
  },
  {
   "cell_type": "markdown",
   "metadata": {},
   "source": [
    "<font color=\"red\" size=\"3\" style=\"background-color:#f2e3e5\">**Question 5 (4 pts):** Try modifying the above plot to have 50 reads. Do you think it will be easier or harder to distinguish heterozygous from non-heterozygous positions? What about for a position only covered by 3 reads?</font>"
   ]
  },
  {
   "cell_type": "markdown",
   "metadata": {},
   "source": [
    "<font color=\"blue\" size=\"3\" style=\"background-color:#e2e6f1\">**Answer 5**</font>"
   ]
  }
 ],
 "metadata": {
  "kernelspec": {
   "display_name": "Python 3",
   "language": "python",
   "name": "python3"
  },
  "language_info": {
   "codemirror_mode": {
    "name": "ipython",
    "version": 2
   },
   "file_extension": ".py",
   "mimetype": "text/x-python",
   "name": "python",
   "nbconvert_exporter": "python",
   "pygments_lexer": "ipython2",
   "version": "2.7.5"
  }
 },
 "nbformat": 4,
 "nbformat_minor": 2
}
