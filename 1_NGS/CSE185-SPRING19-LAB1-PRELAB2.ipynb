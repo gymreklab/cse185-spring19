{
 "cells": [
  {
   "cell_type": "markdown",
   "metadata": {},
   "source": [
    "# Week 1 Lab: next generation sequencing and mutation hunting\n",
    "## Prelab 2\n",
    "**Due: Thursday 04/04/19 10am**\n",
    "\n",
    "Today's prelab will focus on understanding **sequencing coverage** and how to model coverage in the presence of **genetic variants** from the reference genome."
   ]
  },
  {
   "cell_type": "markdown",
   "metadata": {},
   "source": [
    "## 1. Exploring sequencing coverage\n",
    "\n",
    "In next generation sequencing (NGS), coverage refers to the number of reads *covering* a particular base pair (bp) in the reference genome.\n",
    "\n",
    "Recall from lecture that we sequencing a genome in many little chunks, called *reads*. In a typical NGS experiment, reads are around 100bp each. We can assume that the start position of each read is chosen randomly from the genome (although that's not quite true). We usually produce enough sequencing data such that we cover each base in the genome many times. This allows us to more accurately correct for errors and to detect **variants** from the reference genome.\n",
    "\n",
    "As a toy example, consider the following reference genome and read alignment:\n",
    "\n",
    "```\n",
    "Ref:    AACTACGTACGTACGATCAGACTG\n",
    "Read 1:      CGTACG\n",
    "Read 2:          CGTACG\n",
    "Read 3:                  CAGACT\n",
    "```\n",
    "\n",
    "The 11th position (G in the reference) is covered 3 times (often denoted as 3x). The first position (A in the reference) is covered 0 times. "
   ]
  },
  {
   "cell_type": "markdown",
   "metadata": {},
   "source": [
    "<font color=\"red\" size=\"3\" style=\"background-color:#f2e3e5\">**Question 1 (1 pts):** How many times is the 13th base covered?</font>"
   ]
  },
  {
   "cell_type": "markdown",
   "metadata": {},
   "source": [
    "<font color=\"blue\" size=\"3\" style=\"background-color:#e2e6f1\">**Answer 1**</font>"
   ]
  },
  {
   "cell_type": "markdown",
   "metadata": {},
   "source": [
    "We can easily compute the *average coverage*, or mean number of times each base is covered, given the read length ($l$), genome size ($G$), and number of reads ($N$) by dividing the number of total sequenced bases ($l*N$) by the total genome size ($G$): \n",
    "\n",
    "$$\\texttt{Mean Coverage} = \\frac{lN}{G}$$"
   ]
  },
  {
   "cell_type": "markdown",
   "metadata": {},
   "source": [
    "<font color=\"red\" size=\"3\" style=\"background-color:#f2e3e5\">**Question 2 (2 pts):** For a genome of total length 2000bp, you sequenced 100,000 reads with length 36. What is the mean coverage?</font>"
   ]
  },
  {
   "cell_type": "markdown",
   "metadata": {},
   "source": [
    "<font color=\"blue\" size=\"3\" style=\"background-color:#e2e6f1\">**Answer 2**</font>"
   ]
  },
  {
   "cell_type": "markdown",
   "metadata": {},
   "source": [
    "<font color=\"red\" size=\"3\" style=\"background-color:#f2e3e5\">**Question 3 (2 pts):** You would like to sequence a human genome (3 billion bp) to mean coverage 50x. Approximately how many 100bp reads should you generate?</font>"
   ]
  },
  {
   "cell_type": "markdown",
   "metadata": {},
   "source": [
    "<font color=\"blue\" size=\"3\" style=\"background-color:#e2e6f1\">**Answer 3**</font>"
   ]
  },
  {
   "cell_type": "markdown",
   "metadata": {},
   "source": [
    "## 2. Reviewing the binomial distribution\n",
    "\n",
    "TODO include p-value distribution"
   ]
  }
 ],
 "metadata": {
  "kernelspec": {
   "display_name": "Python 3",
   "language": "python",
   "name": "python3"
  },
  "language_info": {
   "codemirror_mode": {
    "name": "ipython",
    "version": 2
   },
   "file_extension": ".py",
   "mimetype": "text/x-python",
   "name": "python",
   "nbconvert_exporter": "python",
   "pygments_lexer": "ipython2",
   "version": "2.7.5"
  }
 },
 "nbformat": 4,
 "nbformat_minor": 2
}
